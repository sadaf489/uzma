{
  "nbformat": 4,
  "nbformat_minor": 0,
  "metadata": {
    "colab": {
      "provenance": []
    },
    "kernelspec": {
      "name": "python3",
      "display_name": "Python 3"
    },
    "language_info": {
      "name": "python"
    }
  },
  "cells": [
    {
      "cell_type": "code",
      "source": [],
      "metadata": {
        "id": "zMqYzyc7zBPa"
      },
      "execution_count": null,
      "outputs": []
    },
    {
      "cell_type": "code",
      "execution_count": 1,
      "metadata": {
        "id": "oM3__PxRyyTs"
      },
      "outputs": [],
      "source": [
        "import pandas"
      ]
    },
    {
      "cell_type": "code",
      "source": [
        "a=pandas.read_csv(\"/content/pandas.csv\")\n",
        "print(a)"
      ],
      "metadata": {
        "colab": {
          "base_uri": "https://localhost:8080/"
        },
        "id": "W18iVNf2zCUy",
        "outputId": "45904d4b-9435-44fe-b968-eb9e28080dd3"
      },
      "execution_count": 2,
      "outputs": [
        {
          "output_type": "stream",
          "name": "stdout",
          "text": [
            "   Year   Make                                   Model  \\\n",
            "0  1997   Ford                                    E350   \n",
            "1  1999  Chevy              Venture \"Extended Edition\"   \n",
            "2  1999  Chevy  Venture \"Extended Edition, Very Large\"   \n",
            "3  1996   Jeep                          Grand Cherokee   \n",
            "\n",
            "                            Description   Price  \n",
            "0                         ac, abs, moon  3000.0  \n",
            "1                                   NaN  4900.0  \n",
            "2                                   NaN  5000.0  \n",
            "3  MUST SELL!\\r\\nair, moon roof, loaded  4799.0  \n"
          ]
        }
      ]
    },
    {
      "cell_type": "code",
      "source": [
        "b=pandas.read_csv(\"/content/pandass.csv\")\n",
        "print(b)"
      ],
      "metadata": {
        "colab": {
          "base_uri": "https://localhost:8080/"
        },
        "id": "YoqdiQRd1T5W",
        "outputId": "a0ae82c8-b726-4b05-bc94-d38ce40e64f2"
      },
      "execution_count": 3,
      "outputs": [
        {
          "output_type": "stream",
          "name": "stdout",
          "text": [
            "       name  age\n",
            "0  John Doe   30\n",
            "1  Jane Doe   25\n"
          ]
        }
      ]
    },
    {
      "cell_type": "code",
      "source": [],
      "metadata": {
        "id": "W3tFI9_01KeH"
      },
      "execution_count": null,
      "outputs": []
    },
    {
      "cell_type": "code",
      "source": [
        "d=pandas.read_csv(\"/content/abc.csv\")\n",
        "print(d)"
      ],
      "metadata": {
        "colab": {
          "base_uri": "https://localhost:8080/"
        },
        "id": "NlA3b-UP3xSw",
        "outputId": "eae9b473-da01-4355-d8e5-5a33bb95f015"
      },
      "execution_count": 4,
      "outputs": [
        {
          "output_type": "stream",
          "name": "stdout",
          "text": [
            "   34  67  56\n",
            "0  36  87  78\n",
            "1  31  56  88\n",
            "2  29  67  92\n",
            "3  54  71  68\n",
            "4  42  65  82\n"
          ]
        }
      ]
    },
    {
      "cell_type": "code",
      "source": [
        "e=pandas.read_csv(\"/content/xyz.csv\")\n",
        "print(e)"
      ],
      "metadata": {
        "colab": {
          "base_uri": "https://localhost:8080/"
        },
        "id": "RrQpr1_I4984",
        "outputId": "9ded2e7d-21f1-4380-c877-dd3c652a9161"
      },
      "execution_count": 5,
      "outputs": [
        {
          "output_type": "stream",
          "name": "stdout",
          "text": [
            "   ID    LAT     LON  ELEV     SOURCE  FLAGS\n",
            "0   4 -27.75  152.45  -999       ADAM      0\n",
            "1   5 -27.03  152.02  -999       MARY      0\n",
            "2   6 -26.76  148.82  -999       DAVE      1\n",
            "3   7 -26.58  148.77  -999       RICK      0\n",
            "4   8 -26.48  148.68  1000     DENNIS      0\n",
            "5   9 -26.30  148.52   900        TIM      0\n",
            "6  10 -26.25  148.41  -999  SPONGEBOB      0\n"
          ]
        }
      ]
    }
  ]
}
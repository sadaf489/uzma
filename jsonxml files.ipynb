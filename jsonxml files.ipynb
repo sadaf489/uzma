{
  "nbformat": 4,
  "nbformat_minor": 0,
  "metadata": {
    "colab": {
      "provenance": []
    },
    "kernelspec": {
      "name": "python3",
      "display_name": "Python 3"
    },
    "language_info": {
      "name": "python"
    }
  },
  "cells": [
    {
      "cell_type": "code",
      "source": [
        "import pandas\n",
        "users={\"id\":[1,2,3,],\"name\":[\"ali\",\"usman\",\"khalid\"]}\n",
        "print(users)"
      ],
      "metadata": {
        "colab": {
          "base_uri": "https://localhost:8080/"
        },
        "id": "0zZtSHAQK0g6",
        "outputId": "743234b4-3cce-4176-bca9-6ec4418b8695"
      },
      "execution_count": 5,
      "outputs": [
        {
          "output_type": "stream",
          "name": "stdout",
          "text": [
            "{'id': [1, 2, 3], 'name': ['ali', 'usman', 'khalid']}\n"
          ]
        }
      ]
    },
    {
      "cell_type": "code",
      "source": [
        "users_df = pandas.DataFrame(users)\n",
        "print(users_df)"
      ],
      "metadata": {
        "colab": {
          "base_uri": "https://localhost:8080/"
        },
        "id": "CwYJ94ePLXGy",
        "outputId": "6e77aa10-a907-4017-dfce-c7cf960517dd"
      },
      "execution_count": 6,
      "outputs": [
        {
          "output_type": "stream",
          "name": "stdout",
          "text": [
            "   id    name\n",
            "0   1     ali\n",
            "1   2   usman\n",
            "2   3  khalid\n"
          ]
        }
      ]
    },
    {
      "cell_type": "code",
      "source": [
        "pip install lxml"
      ],
      "metadata": {
        "colab": {
          "base_uri": "https://localhost:8080/"
        },
        "id": "0ryXAYANLsYJ",
        "outputId": "c69d29a5-0c6a-4e4f-8c00-126aadb3a397"
      },
      "execution_count": 7,
      "outputs": [
        {
          "output_type": "stream",
          "name": "stdout",
          "text": [
            "Requirement already satisfied: lxml in /usr/local/lib/python3.10/dist-packages (4.9.4)\n"
          ]
        }
      ]
    },
    {
      "cell_type": "code",
      "source": [
        "users={\n",
        "    'id':[5,7,8,9],\n",
        "     'name':[\"vfgh\",\"hgy\",\"gyg\",\"gu\"],\n",
        "      'age':[7,8,56,76,]\n",
        "}\n",
        "#converting to xml\n",
        "users_df.to_xml('output_users.xml',index=False)\n"
      ],
      "metadata": {
        "id": "8qKCE_lJNbRp"
      },
      "execution_count": 8,
      "outputs": []
    },
    {
      "cell_type": "code",
      "source": [
        "#making dictionary\n",
        "users={\n",
        "    'id':[5,7,8,9],\n",
        "     'name':[\"vfgh\",\"hgy\",\"gyg\",\"gu\"],\n",
        "      'age':[7,8,56,76,]\n",
        "}\n",
        "print(users)\n",
        "uses_df=pandas.DataFrame(users)\n",
        "print(users_df)\n",
        "#to save data in csv file\n",
        "users_df.to_csv('df_1.csv', index=False, sep=\"/\")"
      ],
      "metadata": {
        "colab": {
          "base_uri": "https://localhost:8080/"
        },
        "id": "YdC4yM3hOv36",
        "outputId": "7b3853ea-413b-4837-f4ce-8634a1686838"
      },
      "execution_count": 12,
      "outputs": [
        {
          "output_type": "stream",
          "name": "stdout",
          "text": [
            "{'id': [5, 7, 8, 9], 'name': ['vfgh', 'hgy', 'gyg', 'gu'], 'age': [7, 8, 56, 76]}\n",
            "   id  name  age\n",
            "0   5  vfgh    7\n",
            "1   7   hgy    8\n",
            "2   8   gyg   56\n",
            "3   9    gu   76\n"
          ]
        }
      ]
    },
    {
      "cell_type": "code",
      "source": [
        "import pandas"
      ],
      "metadata": {
        "id": "PRE2p6RjQG0j"
      },
      "execution_count": 10,
      "outputs": []
    },
    {
      "cell_type": "code",
      "source": [
        "users={\n",
        "    'id':[5,7,8,9],\n",
        "     'name':[\"vfgh\",\"hgy\",\"gyg\",\"gu\"],\n",
        "      'age':[7,8,56,76,]\n",
        "}\n",
        "print(users)\n",
        "users_df=pandas.DataFrame(users)\n",
        "print(users_df)\n",
        "#converting to json\n",
        "users_df.to_json('data.json', index= False)"
      ],
      "metadata": {
        "colab": {
          "base_uri": "https://localhost:8080/"
        },
        "id": "qZ0a3_OtQJyD",
        "outputId": "7159542b-8364-48b0-ae3d-bbf23e026e27"
      },
      "execution_count": 11,
      "outputs": [
        {
          "output_type": "stream",
          "name": "stdout",
          "text": [
            "{'id': [5, 7, 8, 9], 'name': ['vfgh', 'hgy', 'gyg', 'gu'], 'age': [7, 8, 56, 76]}\n",
            "   id  name  age\n",
            "0   5  vfgh    7\n",
            "1   7   hgy    8\n",
            "2   8   gyg   56\n",
            "3   9    gu   76\n"
          ]
        }
      ]
    }
  ]
}